{
 "cells": [
  {
   "cell_type": "markdown",
   "metadata": {},
   "source": [
    "# Dimensional Mechanics Coding Challenge\n",
    "\n",
    "## Problem Statement\n",
    "\n",
    "“You are given a dictionary (dictionary.txt), containing a list of words, one per line. Imagine you have seven tiles. Each tile is either blank or contains a single lowercase letter (a-z). ",
    " ",
    "Please list all the words from the dictionary that can be produced by using some or all of the seven tiles, in any order. A blank tile is a wildcard, and can be used in place of any letter.\n",
    "\n",
    "1. Find all of the words that can be formed if you don't have to deal with blank tiles. \n",
    "2. Find all of the words that can be formed, including those where blank tiles are used as wildcards.\n",
    "3. Please bear in mind you will need to process several hundred of 7-tile sets with the same dictionary."
   ]
  },
  {
   "cell_type": "markdown",
   "metadata": {},
   "source": [
    "## Solution\n",
    "\n",
    "Consider the 7 tiles, each tile can either be a blank or contains a single lowercase letter from a to z. We have the option of using some or all of the given 7 tiles. Therefore, each tile can be filled in 27 ways (a-z or blank). The word that we generate can either be a 1, 2, 3, 4, 5, 6, or 7 letter word. The sample space for all the possible tile combinations as per the above requirements will have 10862674479 (27^1 + 27^2 + 27^3 + 27^4 + 27^5 + 27^6 +27^7) words. \n",
    "\n",
    "However, since we only have to worry about the tile combinations (of characters a-z or blank) that form words which match with the ones in the dictionary, our new sample space is all the words in the given dictionary.\n",
    "\n",
    "Since we can only form words that are 7 letter or smaller, we eliminated all word that have more than 7 letter from the given dictionary. This would also be all of the words that can be formed if you don't have to deal with blank tiles. In this code, 'valid_words' stores this list. You can view this list of words in the 'wordlist.csv' file.\n",
    "\n",
    "To find all of the words that can be formed, including those where blank tiles are used as wildcards we have to realize all the possible combination of words that are formed if the blank is replaced by any letter. For example, the word 'b-girl' represents the following set of combinations:\n",
    "\n",
    "['bagirl', 'bbgirl', 'bcgirl', 'bdgirl', 'begirl', 'bfgirl', 'bggirl', 'bhgirl', 'bigirl', 'bjgirl', 'bkgirl', 'blgirl', 'bmgirl', 'bngirl', 'bogirl', 'bpgirl', 'bqgirl', 'brgirl', 'bsgirl', 'btgirl', 'bugirl', 'bvgirl', 'bwgirl', 'bxgirl', 'bygirl', 'bzgirl']\n",
    "\n",
    "The function replace() executes this idea and we apply this function to all the words that contain a blank in the list 'valid_words' ('valid_words' houses all the words of interest from the given dictionary). The combination of words that the blank wildcard represents is stored in the 'new_dictionary' list. \n",
    "                     \n",
    "The 'new_dictionary' list is added to the 'valid_words' list to form all of the words that can be formed, including those where blank tiles are used as wildcards. This combined list is new_dictionary_final. You can view this combined list of words in the 'wordlistforwildcards.csv' file.                                   \n",
    "\n",
    "## Big O Analysis\n",
    "\n",
    "1.\tSection 1 of the code has a for loop that iterates over the list 'dictionary' and thus a O(n) time complexity for n iterations of the loop.\n",
    "2.\tSection 2 of the code has a for loop nested within another for loop and thus a O(nxn)= O(n^2) time complexity, where n is the number of iterations of the for loop.\n",
    "3.\tSection 3 of the code has a for loop that iterates over the list 'valid_words' and thus a O(n) time complexity for n iterations of the loop.       \n",
    "\n",
    "The overall complexity is thus O(n + n^2 + n^2), since n<< n^2 the complexity can be approximated to O(n^2)\n"
   ]
  },
  {
   "cell_type": "code",
   "execution_count": 1,
   "metadata": {
    "collapsed": false
   },
   "outputs": [
    {
     "name": "stdout",
     "output_type": "stream",
     "text": [
      "The number of 7 letter words in given dictionary\n",
      "26387\n",
      "This step has a for loop that iterates over the list 'dictionary' and thus a O(n) time complexity for n iterations of the loop\n"
     ]
    }
   ],
   "source": [
    "#section 1\n",
    "import csv\n",
    "import pandas as pd\n",
    "\n",
    "f = open(\"dictionary.txt\",\"r\")\n",
    "text_file= f.read()\n",
    "dictionary= text_file.split(\"\\n\")\n",
    "\n",
    "#'valid_words' stores this list. You can view this list of words in the 'wordlist.csv' file present \n",
    "#in the root directory (read instruction on how to access 'wordlist.csv')\n",
    "valid_words=[]\n",
    "for i in dictionary:\n",
    "    if len(i)<=7:\n",
    "        valid_words.append(i)\n",
    "        \n",
    "print(\"The number of 7 letter words in given dictionary\")\n",
    "print(len(valid_words))                         \n",
    "print(\"This step has a for loop that iterates over the list 'dictionary' and thus a O(n) time complexity for n iterations of the loop\")\n",
    "\n",
    "#read instruction on how to access 'wordlist.csv'\n",
    "df = pd.DataFrame(valid_words, columns=[\"Possible Matches\"])\n",
    "df.to_csv('wordlist.csv', index=False)"
   ]
  },
  {
   "cell_type": "code",
   "execution_count": 2,
   "metadata": {
    "collapsed": false
   },
   "outputs": [
    {
     "name": "stdout",
     "output_type": "stream",
     "text": [
      "The replace function illustrated:\n",
      "['bagirl', 'bbgirl', 'bcgirl', 'bdgirl', 'begirl', 'bfgirl', 'bggirl', 'bhgirl', 'bigirl', 'bjgirl', 'bkgirl', 'blgirl', 'bmgirl', 'bngirl', 'bogirl', 'bpgirl', 'bqgirl', 'brgirl', 'bsgirl', 'btgirl', 'bugirl', 'bvgirl', 'bwgirl', 'bxgirl', 'bygirl', 'bzgirl']\n",
      "The function has a for loop nested within another for loop and thus a O(n^2) time complexity, where n is the number of iterations of the for loop\n"
     ]
    }
   ],
   "source": [
    "#section 2\n",
    "def replace(word, alphabets=[\"a\",\"b\",\"c\",\"d\", \"e\",\"f\",\"g\",\"h\",\"i\",\"j\",\"k\",\"l\",\"m\",\"n\",\"o\",\"p\",\"q\",\"r\",\"s\",\"t\",\"u\",\"v\",\"w\",\"x\",\"y\",\"z\"]\n",
    "):\n",
    "    word= list(word)\n",
    "    expanded=[]\n",
    "    copy=word\n",
    "    for i,j in enumerate(word):\n",
    "        if j==\"-\":\n",
    "            for k in alphabets:\n",
    "                copy[i]=k\n",
    "                wildcard_option= ''.join(copy)\n",
    "                expanded.append(wildcard_option)\n",
    "    return(expanded) \n",
    "\n",
    "print(\"The replace function illustrated:\")\n",
    "word_expanded= replace('b-girl')\n",
    "print(word_expanded)\n",
    "print(\"The function has a for loop nested within another for loop and thus a O(n^2) time complexity, where n is the number of iterations of the for loop\")"
   ]
  },
  {
   "cell_type": "code",
   "execution_count": 3,
   "metadata": {
    "collapsed": false
   },
   "outputs": [
    {
     "name": "stdout",
     "output_type": "stream",
     "text": [
      "This step has a for loop that iterates over the list 'valid_words' and thus a O(n) time complexity for n iterations of the loop\n",
      "The number of wildcard words in the above subset\n",
      "118\n",
      "The number of possible representations the wildcard words correspond to in the above subset\n",
      "3068\n"
     ]
    }
   ],
   "source": [
    "#section 3\n",
    "new_dictionary=[]\n",
    "count=0  \n",
    "#The combination of words that the blank wildcard represents is stored in the 'new_dictionary' list. \n",
    "for l in valid_words:\n",
    "    if \"-\" in l:\n",
    "        count= count+1\n",
    "        word_expanded= replace(l)\n",
    "        new_dictionary= new_dictionary + word_expanded\n",
    "        \n",
    "print(\"This step has a for loop that iterates over the list 'valid_words' and thus a O(n) time complexity for n iterations of the loop\")       \n",
    "print(\"The number of wildcard words in the above subset\")\n",
    "print(count)\n",
    "\n",
    "print(\"The number of possible representations the wildcard words correspond to in the above subset\")\n",
    "print(len(new_dictionary))"
   ]
  },
  {
   "cell_type": "code",
   "execution_count": 4,
   "metadata": {
    "collapsed": false
   },
   "outputs": [
    {
     "name": "stdout",
     "output_type": "stream",
     "text": [
      "The number of words that can be formed, including those where blank tiles are used as wildcards\n",
      "29455\n"
     ]
    }
   ],
   "source": [
    "#The 'new_dictionary' list is added to the 'valid_words' list to form all of the words that can be formed, \n",
    "#including those where blank tiles are used as wildcards. This combined list is new_dictionary_final. \n",
    "#You can view this combined list of words in the 'wordlistforwildcards.csv' file present in the root directory    \n",
    "\n",
    "new_dictionary_final= new_dictionary + valid_words\n",
    "\n",
    "print(\"The number of words that can be formed, including those where blank tiles are used as wildcards\")\n",
    "print(len(new_dictionary_final))\n",
    "\n",
    "#read instruction on how to access 'wordlistforwildcards.csv'\n",
    "df = pd.DataFrame(new_dictionary_final, columns=[\"Possible Matches\"])\n",
    "df.to_csv('wordlistforwildcards.csv', index=False)\n",
    "\n",
    "    "
   ]
  },
  {
   "cell_type": "code",
   "execution_count": null,
   "metadata": {
    "collapsed": true
   },
   "outputs": [],
   "source": []
  }
 ],
 "metadata": {
  "kernelspec": {
   "display_name": "Python 3",
   "language": "python",
   "name": "python3"
  },
  "language_info": {
   "codemirror_mode": {
    "name": "ipython",
    "version": 3
   },
   "file_extension": ".py",
   "mimetype": "text/x-python",
   "name": "python",
   "nbconvert_exporter": "python",
   "pygments_lexer": "ipython3",
   "version": "3.6.0"
  }
 },
 "nbformat": 4,
 "nbformat_minor": 2
}
